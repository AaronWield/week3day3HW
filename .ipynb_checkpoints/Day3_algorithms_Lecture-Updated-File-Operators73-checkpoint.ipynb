{
 "cells": [
  {
   "cell_type": "markdown",
   "metadata": {},
   "source": [
    "# Intro to Algorithms, Binary Search"
   ]
  },
  {
   "cell_type": "markdown",
   "metadata": {},
   "source": [
    "## Tasks Today:\n",
    " \n",
    "1) <b>In-Place Algorithms</b> <br>\n",
    " &nbsp;&nbsp;&nbsp;&nbsp; a) Syntax <br>\n",
    " &nbsp;&nbsp;&nbsp;&nbsp; a) Out of Place Algorithm <br>\n",
    " &nbsp;&nbsp;&nbsp;&nbsp; b) In-Class Exercise #1 <br>\n",
    "2) <b>Two Pointers</b> <br>\n",
    "3) <b>Sorting Algorithms !!!MEMORIZE 1 SORT PROCESS FOR POTENTIAL INTERVIEWS!!!</b><br>\n",
    " &nbsp;&nbsp;&nbsp;&nbsp; a) Videos on Algorithms (Watch later) <br>\n",
    " &nbsp;&nbsp;&nbsp;&nbsp; b) Bubble Sort <br>\n",
    " &nbsp;&nbsp;&nbsp;&nbsp; c) Insertion Sort <br>\n",
    " &nbsp;&nbsp;&nbsp;&nbsp; d) Merge Sort <br>\n",
    "4) <b>Binary Search Algorithm</b> <br>\n",
    "5) <b>Exercises</b> <br>\n",
    " &nbsp;&nbsp;&nbsp;&nbsp; a) Exercise #1 - Reverse a List in Place Using an In-Place Algorithm <br>\n",
    " &nbsp;&nbsp;&nbsp;&nbsp; b) Exercise #2 - Find Distinct Words <br>\n",
    " &nbsp;&nbsp;&nbsp;&nbsp; c) Exercise #3 - Write a program to implement a Linear Search Algorithm. <br>"
   ]
  },
  {
   "cell_type": "markdown",
   "metadata": {},
   "source": [
    "## In-Place Algorithms"
   ]
  },
  {
   "cell_type": "markdown",
   "metadata": {},
   "source": [
    "#### Syntax"
   ]
  },
  {
   "cell_type": "code",
   "execution_count": 11,
   "metadata": {},
   "outputs": [
    {
     "name": "stdout",
     "output_type": "stream",
     "text": [
      "Before swap: [20, 30, 40]\n",
      "After swap: [40, 30, 20]\n"
     ]
    }
   ],
   "source": [
    "# syntax for swap\n",
    "# var[i], var[i+1] = var[i+1], var[i]\n",
    "#known as swap algorithm, small part of larger sorting algos\n",
    "\n",
    "def swap(alist, x, y, z):\n",
    "    alist[x], alist[y], alist[z] = alist[z], alist[y], alist[x]\n",
    "    return alist\n",
    "\n",
    "my_list = [20,30,40]\n",
    "print(f'Before swap: {my_list}')\n",
    "\n",
    "swap(my_list, 0, 1, 2)\n",
    "print(f'After swap: {my_list}')"
   ]
  },
  {
   "cell_type": "markdown",
   "metadata": {},
   "source": [
    "#### Out of Place Algorithm"
   ]
  },
  {
   "cell_type": "code",
   "execution_count": 20,
   "metadata": {},
   "outputs": [
    {
     "name": "stdout",
     "output_type": "stream",
     "text": [
      "[40, 30, 20]\n",
      "[20, 30, 40]\n",
      "['d']\n",
      "['d', 'c']\n",
      "['d', 'c', 'b']\n",
      "['d', 'c', 'b', 'a']\n"
     ]
    }
   ],
   "source": [
    "# not swapping, but making an entirely new copy and reversing\n",
    "#completely, takes up a new slot in memory for a new list\n",
    "\n",
    "my_list = [20,30,40]\n",
    "my_list_copy = my_list[::-1]\n",
    "print(my_list_copy)\n",
    "print(my_list)\n",
    "\n",
    "# this is what is happening in the background of my_list[::-1]\n",
    "list_2 = ['a', 'b', 'c', 'd']\n",
    "length = len(list_2)\n",
    "\n",
    "sorted_l2 = []\n",
    "\n",
    "for i in range(1,len(list_2)+1):\n",
    "    sorted_l2.append(list_2[length-i])\n",
    "    print(sorted_l2)"
   ]
  },
  {
   "cell_type": "markdown",
   "metadata": {},
   "source": [
    "#### In-Class Exercise #1 <br>\n",
    "<p>Write a function that takes in four arguments (list, index1, index2, index3), and swaps those three positions in the list passed in.</p>"
   ]
  },
  {
   "cell_type": "code",
   "execution_count": 43,
   "metadata": {},
   "outputs": [
    {
     "name": "stdout",
     "output_type": "stream",
     "text": [
      "[3, 4, 10, 8, 4, 2, 6]\n"
     ]
    }
   ],
   "source": [
    "l_1 = [10, 4, 3, 8, 4, 2, 6]\n",
    "\n",
    "def swap(l_2, x, y, z):\n",
    "    l_2[x], l_2[y], l_2[z] = l_2[z], l_2[y], l_2[x]\n",
    "    return l_2\n",
    "\n",
    "print(swap(l_1, 0, 1, 2))"
   ]
  },
  {
   "cell_type": "markdown",
   "metadata": {},
   "source": [
    "## Two Pointers"
   ]
  },
  {
   "cell_type": "markdown",
   "metadata": {},
   "source": [
    "#### Syntax"
   ]
  },
  {
   "cell_type": "code",
   "execution_count": 50,
   "metadata": {},
   "outputs": [
    {
     "data": {
      "text/plain": [
       "[5, 4, 3, 2, 1]"
      ]
     },
     "execution_count": 50,
     "metadata": {},
     "output_type": "execute_result"
    }
   ],
   "source": [
    "# alist[left], alist[right] = alist[right], alist[left]\n",
    "# mostly, 2 pointers are going to be inside a while loop if you\n",
    "#are swapping items\n",
    "\n",
    "def twoPointers(alist):\n",
    "# create 2 pointers (beginning and end, in this case)\n",
    "    left = 0 \n",
    "    right = len(alist) - 1\n",
    "# start looping until there are no longer positions to swap\n",
    "    while left <= right:\n",
    "# swap the left and right positions to reverse\n",
    "        alist[left], alist[right] = alist[right], alist[left]\n",
    "# increase left and decrease right to find the next position to swap\n",
    "        left += 1\n",
    "        right -= 1\n",
    "    return alist\n",
    "        \n",
    "twoPointers([1,2,3,4,5])"
   ]
  },
  {
   "cell_type": "markdown",
   "metadata": {},
   "source": [
    "#### Video of Algorithms <br>\n",
    "<p>Watch the video about algorithms.</p>\n",
    "\n",
    "https://www.youtube.com/watch?v=Q9HjeFD62Uk\n",
    "\n",
    "https://www.youtube.com/watch?v=kPRA0W1kECg\n",
    "\n",
    "https://www.youtube.com/watch?v=ZZuD6iUe3Pc"
   ]
  },
  {
   "cell_type": "markdown",
   "metadata": {},
   "source": [
    "# Sorting Algorithms"
   ]
  },
  {
   "cell_type": "markdown",
   "metadata": {},
   "source": [
    "#### Bubble Sort\n",
    "\n",
    "Worst Case: O(n^2) Time - O(1) Space"
   ]
  },
  {
   "cell_type": "code",
   "execution_count": 56,
   "metadata": {},
   "outputs": [
    {
     "data": {
      "text/plain": [
       "[2, 4, 5, 6]"
      ]
     },
     "execution_count": 56,
     "metadata": {},
     "output_type": "execute_result"
    }
   ],
   "source": [
    "# steps:\n",
    "#iterate over a list, compare each item to the item next to it\n",
    "#if value on left is > value on right -- swap those values\n",
    "#keep going through list until we make a full loop with no swaps\n",
    "\n",
    "def swap(i, j, array):\n",
    "    array[i], array[j] = array[j], array[i]\n",
    "\n",
    "def bubbleSort(array):\n",
    "    is_sorted = False\n",
    "    while not is_sorted:\n",
    "        is_sorted = True\n",
    "        #here is where we would swap\n",
    "        for i in range(len(array)-1):\n",
    "            if array[i] > array[i+1]:\n",
    "                swap(i, i+1, array)\n",
    "                is_sorted = False\n",
    "    return array\n",
    "bubbleSort([6,5,2,4])\n",
    "    "
   ]
  },
  {
   "cell_type": "markdown",
   "metadata": {},
   "source": [
    "##### Insertion Sort\n",
    "\n",
    "Worst Case: O(n^2) time - O(1)space"
   ]
  },
  {
   "cell_type": "code",
   "execution_count": 62,
   "metadata": {},
   "outputs": [
    {
     "data": {
      "text/plain": [
       "[1, 2, 5]"
      ]
     },
     "execution_count": 62,
     "metadata": {},
     "output_type": "execute_result"
    }
   ],
   "source": [
    "# Steps:\n",
    "#look at the value at each index\n",
    "#compare that item to every value at the left -- then move item\n",
    "#until reach a number comparison that is in the correct order.\n",
    "#do this for every value -- index 1 -> final index\n",
    "\n",
    "def swap(i, j, array):\n",
    "    array[i], array[j] = array[j], array[i]\n",
    "\n",
    "def insertionSort(array):\n",
    "    for i in range(1, len(array)):\n",
    "        j = i\n",
    "        while j > 0 and array[j] < array[j-1]:\n",
    "            swap(j, j-1, array)\n",
    "            j -= 1\n",
    "    return array\n",
    "\n",
    "insertionSort([1,5,2])\n"
   ]
  },
  {
   "cell_type": "markdown",
   "metadata": {},
   "source": [
    "## Merge Sort"
   ]
  },
  {
   "cell_type": "markdown",
   "metadata": {},
   "source": [
    "#### How it Works"
   ]
  },
  {
   "cell_type": "code",
   "execution_count": 84,
   "metadata": {},
   "outputs": [
    {
     "name": "stdout",
     "output_type": "stream",
     "text": [
      "Splitting... [6, 2, 19, 7, 11]\n",
      "Splitting... [6, 2]\n",
      "Splitting... [6]\n",
      "Merging:  [6]\n",
      "Splitting... [2]\n",
      "Merging:  [2]\n",
      "Merging:  [2, 6]\n",
      "Splitting... [19, 7, 11]\n",
      "Splitting... [19]\n",
      "Merging:  [19]\n",
      "Splitting... [7, 11]\n",
      "Splitting... [7]\n",
      "Merging:  [7]\n",
      "Splitting... [11]\n",
      "Merging:  [11]\n",
      "Merging:  [7, 11]\n",
      "Merging:  [7, 11, 19]\n",
      "Merging:  [2, 6, 7, 11, 19]\n"
     ]
    },
    {
     "data": {
      "text/plain": [
       "[2, 6, 7, 11, 19]"
      ]
     },
     "execution_count": 84,
     "metadata": {},
     "output_type": "execute_result"
    }
   ],
   "source": [
    "# Step 1: split everything into its own group\n",
    "# Step 2: from left to right, merge 2 equal sections together\n",
    "# Step 3: while merging, place each item in the correct position\n",
    "#within the merged group\n",
    "# Step 4: continue steps 2+3 until one group is left\n",
    "\n",
    "# Creating random list\n",
    "from random import randint\n",
    "nums = [randint(0,20) for i in range(5)]\n",
    "nums\n",
    "\n",
    "# Merge Sort Below\n",
    "def mergeSort(array):\n",
    "    print(\"Splitting...\", array)\n",
    "        \n",
    "# Step 1(divide array into equal parts)\n",
    "    if len(array) > 1:\n",
    "        mid = len(array) // 2\n",
    "        lefthalf = array[:mid]\n",
    "        righthalf = array[mid:]\n",
    "        \n",
    "        #recursively call mergeSort to perform splits if needed\n",
    "        #merge once all splits are made\n",
    "        mergeSort(lefthalf)\n",
    "        mergeSort(righthalf)\n",
    "        \n",
    "        #index pointers for our halves\n",
    "        i = 0 #pointer for lefthalf\n",
    "        j = 0 #pointer for righthalf\n",
    "        k = 0 #pointer for main array (merged array)\n",
    "        \n",
    "# Step 2: compare left and right half\n",
    "        while i < len(lefthalf) and j < len(righthalf):\n",
    "            if lefthalf[i] < righthalf[j]:\n",
    "                array[k] = lefthalf[i]\n",
    "                i += 1\n",
    "            else:\n",
    "                array[k] = righthalf[j]\n",
    "                j += 1\n",
    "            k += 1\n",
    "# Step 3: while merging, place items in to correct position\n",
    "        while i < len(lefthalf):\n",
    "            array[k] = lefthalf[i]\n",
    "            i += 1\n",
    "            k += 1\n",
    "        while j < len(righthalf):\n",
    "            array[k] = righthalf[j]\n",
    "            j += 1\n",
    "            k += 1\n",
    "    print('Merging: ', array)\n",
    "    return array\n",
    "\n",
    "mergeSort(nums)"
   ]
  },
  {
   "cell_type": "markdown",
   "metadata": {},
   "source": [
    "# Binary Search\n",
    "\n",
    "The Binary Search algorithm works by finding the number in the middle of a given array and comparing it to the target. Given that the array is sorted\n",
    "\n",
    "* The worst case run time for this algorithm is `O(log(n))`"
   ]
  },
  {
   "cell_type": "code",
   "execution_count": 92,
   "metadata": {},
   "outputs": [
    {
     "data": {
      "text/plain": [
       "'Congrats! You found the target 72 at index 4'"
      ]
     },
     "execution_count": 92,
     "metadata": {},
     "output_type": "execute_result"
    }
   ],
   "source": [
    "# Steps:\n",
    "# establish 2 pointers - left and right\n",
    "# find a midpoint between left/right\n",
    "# check the target value vs the midpoint\n",
    "# adjust pointers to narrow in our target\n",
    "# continue the proceess until find target or complete searching\n",
    "\n",
    "def binarySearch(array, target):\n",
    "# step 1: establish pointers\n",
    "    left = 0\n",
    "    right = len(array) - 1 \n",
    "# step 2: find midpoint and establish new midpoint \n",
    "    while left <= right:     \n",
    "        mid = (left + right) // 2\n",
    "        possible_match = array[mid]\n",
    "        \n",
    "        #adjust pointers based on comp. btwn target and midpoint\n",
    "        if target == possible_match:\n",
    "            return f'Congrats! You found the target {target} at index {mid}'\n",
    "        elif target < possible_match:\n",
    "            right = mid - 1\n",
    "        else:\n",
    "            left = mid + 1\n",
    "    return f'Sorry the target of {target} does not exist here!'\n",
    "\n",
    "some_list = [1,2,4,70,72,100,8000]\n",
    "binarySearch(some_list, 72)\n"
   ]
  },
  {
   "cell_type": "markdown",
   "metadata": {},
   "source": [
    "# Exercises"
   ]
  },
  {
   "cell_type": "markdown",
   "metadata": {},
   "source": [
    "### Exercise #1 <br>\n",
    "<p>Reverse the list below in-place using an in-place algorithm.<br>For extra credit: Reverse the strings at the same time.</p>"
   ]
  },
  {
   "cell_type": "code",
   "execution_count": 112,
   "metadata": {},
   "outputs": [
    {
     "name": "stdout",
     "output_type": "stream",
     "text": [
      "['.', 'sentence', 'a', 'is', 'this']\n",
      "['.', 'ecnetnes', 'a', 'si', 'siht']\n"
     ]
    }
   ],
   "source": [
    "# sentence reversed\n",
    "words = ['this' , 'is', 'a', 'sentence', '.']\n",
    "def sentence(list_1, a, b, c, d, e):\n",
    "    list_1[a], list_1[b], list_1[c], list_1[d], list_1[e] = list_1[e], list_1[d], list_1[c], list_1[b], list_1[a]\n",
    "    return list_1\n",
    "print(sentence(words, 0, 1, 2, 3, 4))\n",
    "\n",
    "#sentence and letters reversed\n",
    "words_2 = ['this' , 'is', 'a', 'sentence', '.']\n",
    "def sentenceAndLetters(list_2, a, b, c, d, e):\n",
    "    list_2[a], list_2[b], list_2[c], list_2[d], list_2[e] = list_2[e][::-1], list_2[d][::-1], list_2[c][::-1], list_2[b][::-1], list_2[a][::-1]\n",
    "    return list_2\n",
    "print(sentenceAndLetters(words_2, 0, 1, 2, 3, 4))"
   ]
  },
  {
   "cell_type": "markdown",
   "metadata": {},
   "source": [
    "### Exercise #2 <br>\n",
    "<p>Create a function that counts how many distinct words are in the string below, then outputs a dictionary with the words as the key and the value as the amount of times that word appears in the string.<br>Should output:<br>{'a': 5,<br>\n",
    " 'abstract': 1,<br>\n",
    " 'an': 3,<br>\n",
    " 'array': 2, ... etc...</p>"
   ]
  },
  {
   "cell_type": "code",
   "execution_count": 5,
   "metadata": {},
   "outputs": [
    {
     "name": "stdout",
     "output_type": "stream",
     "text": [
      "{'a': 5, 'abstract': 1, 'an': 3, 'array': 2, 'associative': 1, 'be': 1, 'buckets': 1, 'can': 2, 'compute': 1, 'computing,': 1, 'data': 2, 'desired': 1, 'found': 1, 'from': 1, 'function': 1, 'hash': 4, 'implements': 1, 'in': 1, 'index': 1, 'into': 1, 'is': 1, 'keys': 1, 'map': 2, 'of': 1, 'or': 1, 'slots': 1, 'structure': 2, 'table': 2, 'that': 1, 'the': 1, 'to': 2, 'type,': 1, 'uses': 1, 'value': 1, 'values.': 1, 'which': 2}\n"
     ]
    }
   ],
   "source": [
    "a_text = 'In computing, a hash table hash map is a data structure which implements an associative array abstract data type, a structure that can map keys to values. A hash table uses a hash function to compute an index into an array of buckets or slots from which the desired value can be found'\n",
    "\n",
    "def distinctWords(x):\n",
    "    wordCount = {}\n",
    "    text = a_text.lower()\n",
    "    words = text.split()\n",
    "    a_list = sorted(words)\n",
    "    \n",
    "    for i in a_list:\n",
    "        if i in wordCount:\n",
    "            wordCount[i]+=1\n",
    "        else:\n",
    "            wordCount.update({i:1})\n",
    "    print(wordCount)\n",
    "        \n",
    "distinctWords(a_text)"
   ]
  },
  {
   "cell_type": "markdown",
   "metadata": {},
   "source": [
    "## Exercise #3\n",
    "\n",
    "Write a program to implement a Linear Search Algorithm.\n",
    "\n",
    "#### Hint: Linear Searching will require searching a list for a given number. "
   ]
  },
  {
   "cell_type": "code",
   "execution_count": 131,
   "metadata": {},
   "outputs": [
    {
     "data": {
      "text/plain": [
       "2"
      ]
     },
     "execution_count": 131,
     "metadata": {},
     "output_type": "execute_result"
    }
   ],
   "source": [
    "nums_list = [10, 23, 45, 70, 11, 15]\n",
    "#If target not inside list, return -1\n",
    "\n",
    "def search(array, num):\n",
    "    for i in range(len(array)):\n",
    "        if array[i] == num:\n",
    "            return i   \n",
    "    return -1\n",
    "search(nums_list, 10)"
   ]
  },
  {
   "cell_type": "code",
   "execution_count": null,
   "metadata": {},
   "outputs": [],
   "source": []
  }
 ],
 "metadata": {
  "kernelspec": {
   "display_name": "Python 3",
   "language": "python",
   "name": "python3"
  },
  "language_info": {
   "codemirror_mode": {
    "name": "ipython",
    "version": 3
   },
   "file_extension": ".py",
   "mimetype": "text/x-python",
   "name": "python",
   "nbconvert_exporter": "python",
   "pygments_lexer": "ipython3",
   "version": "3.8.8"
  }
 },
 "nbformat": 4,
 "nbformat_minor": 2
}
